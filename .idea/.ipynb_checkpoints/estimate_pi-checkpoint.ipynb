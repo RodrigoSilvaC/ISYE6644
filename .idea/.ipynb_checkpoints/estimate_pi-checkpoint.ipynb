{
 "cells": [
  {
   "cell_type": "markdown",
   "metadata": {},
   "source": [
    "## **Project**: Estimate Pi"
   ]
  },
  {
   "cell_type": "markdown",
   "metadata": {},
   "source": [
    "The goal of this project is to estimate the Pi, the famous circle number approximately given by 3.1415..., using a Monte Carlo Simulation approach.\n",
    "\n",
    "Monte Carlo Simulation is a mathematical technique, which is used to estimate the possible outcomes of an uncertain event. These methods rely on sampling of random numbers.\n",
    "\n"
   ]
  },
  {
   "cell_type": "code",
   "execution_count": 24,
   "metadata": {},
   "outputs": [],
   "source": [
    "import matplotlib.pyplot as plt\n",
    "import matplotlib as mpl\n",
    "import numpy as np\n",
    "import pandas as pd"
   ]
  },
  {
   "cell_type": "code",
   "execution_count": 25,
   "metadata": {},
   "outputs": [],
   "source": [
    "class EstimatePi(object):\n",
    "    def __init__(self):\n",
    "        # First, we need to create the unit square and circle of radius 1/2 inside\n",
    "        self.fig, self.ax = plt.subplots(figsize = (10,10)) #create axis and figure objects\n",
    "        self.ax.set(xlim = (0,1), ylim= (0,1)) #create unit square\n",
    "        self.ax.add_patch(mpl.patches.Circle((0.5,0.5), radius= 0.5, fill= False, edgecolor= 'black', linewidth = 2)) #add circle to the axis\n",
    "\n",
    "    def simulate_darts(self, N):\n",
    "        # we need to create an array with random uniform numbers for x and y coordinates\n",
    "        x = np.random.uniform(0,1,N)\n",
    "        y = np.random.uniform(0,1,N)\n",
    "        #create category 'cat' list\n",
    "        cat = []\n",
    "        for i in range(N):\n",
    "            # using the circle's formula, if the sum of the distances from center is less than radius^2 then its inside the circle\n",
    "            cond = (0.5-x[i])**2 + (0.5-y[i])**2\n",
    "            if cond <= 0.25:\n",
    "                cat.append(1)\n",
    "            else:\n",
    "                cat.append(0)\n",
    "        df = pd.DataFrame(dict(x = x, y = y, cat = cat))\n",
    "        groups = df.groupby('cat')\n",
    "        for name, group in groups:\n",
    "            self.ax.scatter(group['x'], group['y'], s=3) #make scatterplot of darts grouped by category\n",
    "        # pi is approximately equal to the proportion of darts inside the circle times 4\n",
    "        ratio = len(df[df['cat'] == 1])/len(x)*4\n",
    "        print('The estimated value for pi is: ', ratio)\n",
    "        return plt.show()\n",
    "\n"
   ]
  },
  {
   "cell_type": "code",
   "execution_count": null,
   "metadata": {},
   "outputs": [],
   "source": [
    "a = EstimatePi()\n",
    "a.simulate_darts(10000000)\n"
   ]
  },
  {
   "cell_type": "code",
   "execution_count": null,
   "metadata": {},
   "outputs": [],
   "source": []
  },
  {
   "cell_type": "code",
   "execution_count": null,
   "metadata": {},
   "outputs": [],
   "source": []
  },
  {
   "cell_type": "code",
   "execution_count": null,
   "metadata": {},
   "outputs": [],
   "source": []
  },
  {
   "cell_type": "code",
   "execution_count": null,
   "metadata": {},
   "outputs": [],
   "source": []
  }
 ],
 "metadata": {
  "kernelspec": {
   "display_name": "Python 3",
   "language": "python",
   "name": "python3"
  },
  "language_info": {
   "codemirror_mode": {
    "name": "ipython",
    "version": 3
   },
   "file_extension": ".py",
   "mimetype": "text/x-python",
   "name": "python",
   "nbconvert_exporter": "python",
   "pygments_lexer": "ipython3",
   "version": "3.8.5"
  }
 },
 "nbformat": 4,
 "nbformat_minor": 1
}
